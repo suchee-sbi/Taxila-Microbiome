{
 "cells": [
  {
   "cell_type": "markdown",
   "id": "9ebf6e07",
   "metadata": {},
   "source": [
    "# Interactive view of semantic similarity networks for microbiome"
   ]
  },
  {
   "cell_type": "code",
   "execution_count": null,
   "id": "b4d2350a",
   "metadata": {},
   "outputs": [],
   "source": [
    "import numpy as np\n",
    "import pandas as pd\n",
    "from IPython.display import display\n",
    "from ipywidgets import interact, interact_manual, BoundedFloatText, Combobox, Dropdown, HTML"
   ]
  },
  {
   "cell_type": "code",
   "execution_count": null,
   "id": "3a45ae9a",
   "metadata": {},
   "outputs": [],
   "source": [
    "md_df = pd.read_csv('./data/microorganisms_disease_adjacency.csv', index_col=[0])\n",
    "mf_df = pd.read_csv('./data/microorganisms_food_adjacency.csv', index_col=[0])\n",
    "df_df = pd.read_csv('./data/disease_food_adjacency.csv', index_col=[0])"
   ]
  },
  {
   "cell_type": "code",
   "execution_count": null,
   "id": "3ccbbf79",
   "metadata": {},
   "outputs": [],
   "source": [
    "dists = [md_df.values, mf_df.values, df_df.values]"
   ]
  },
  {
   "cell_type": "code",
   "execution_count": null,
   "id": "acfa3c69",
   "metadata": {},
   "outputs": [],
   "source": [
    "dataset = [(\"Microorganisms Vs Disease\", 0), (\"Microorganisms Vs Food\", 1), (\"Disease Vs Food\", 2)]\n",
    "colors = {\n",
    "    'Microorganisms': '#ffff00',\n",
    "    'Disease': '#97c2fc',\n",
    "    'Food': '#ef553b'\n",
    "}"
   ]
  },
  {
   "cell_type": "code",
   "execution_count": null,
   "id": "d8418d28",
   "metadata": {},
   "outputs": [],
   "source": [
    "def choose_data(data):\n",
    "    if data == 0:\n",
    "        return md_df, dists[0], \"Microorganisms\", \"Disease\"\n",
    "    elif data == 1:\n",
    "        return mf_df, dists[1], \"Microorganisms\", \"Food\"\n",
    "    else:\n",
    "        return df_df, dists[2], \"Disease\", \"Food\"\n",
    "    \n",
    "\n",
    "def create_legend(*values):\n",
    "    display(HTML(\"\\n\".join(f'<div><div style=\"height: 16px; width: 16px; background-color: {colors[x]}; display: inline-block;\"></div> <b>{x}</b></div>' for x in values)))"
   ]
  },
  {
   "cell_type": "markdown",
   "id": "06521990",
   "metadata": {},
   "source": [
    "## Histogram View"
   ]
  },
  {
   "cell_type": "code",
   "execution_count": null,
   "id": "c4787502",
   "metadata": {},
   "outputs": [],
   "source": [
    "import plotly.express as px"
   ]
  },
  {
   "cell_type": "code",
   "execution_count": null,
   "id": "aa25c4ff",
   "metadata": {
    "scrolled": false
   },
   "outputs": [],
   "source": [
    "@interact(data=Dropdown(options=dataset, value=0, description=\"Dataset: \"))\n",
    "def hist_data(data):\n",
    "    df, _, row, column = choose_data(data)\n",
    "    @interact_manual(sim=BoundedFloatText(value=0.35, min=df.min().min(), max=df.max().max(), step=0.01, description=\"Distance: \"),\n",
    "                    row=Combobox(options=list(df.index) + [''], ensure_option=True, description=f\"{row}: \"),\n",
    "                    column=Combobox(options=list(df.columns) + [''], ensure_option=True, description=f\"{column}: \"))\n",
    "    def histogram(sim=0.35, row=None, column=None):\n",
    "        ddf = df[df < sim]\n",
    "        ddf.dropna(axis=0, how='all', inplace=True)\n",
    "        ddf.dropna(axis=1, how='all', inplace=True)\n",
    "        if row:\n",
    "            if row not in ddf.index:\n",
    "                print(f\"`{row}` is not present in the filtered DF\")\n",
    "                return\n",
    "            ddf = ddf.loc[[row]]\n",
    "        if column:\n",
    "            if column not in ddf.columns:\n",
    "                print(f\"`{column}` is not present in the filtered DF\")\n",
    "                return\n",
    "            ddf = ddf[[column]]\n",
    "        return px.imshow(ddf, aspect=\"auto\")"
   ]
  },
  {
   "cell_type": "markdown",
   "id": "41ac0775",
   "metadata": {},
   "source": [
    "## Network View"
   ]
  },
  {
   "cell_type": "code",
   "execution_count": null,
   "id": "7a441c6e",
   "metadata": {},
   "outputs": [],
   "source": [
    "from itertools import chain\n",
    "\n",
    "import networkx as nx\n",
    "from scipy import sparse\n",
    "from pyvis.network import Network"
   ]
  },
  {
   "cell_type": "code",
   "execution_count": null,
   "id": "64ed0683",
   "metadata": {},
   "outputs": [],
   "source": [
    "@interact(data=Dropdown(options=dataset, value=0, description=\"Dataset: \"))\n",
    "def network(data):\n",
    "    df, dist, row, column = choose_data(data)\n",
    "    node_info = {}\n",
    "    name_id_map = {}\n",
    "    for idx, name in enumerate(chain(df.index, df.columns)):\n",
    "        node_info[idx] = {'label': name, 'title': name, 'weight': 10, 'color': colors[row] if idx < len(df.index) else colors[column], 'font': {'size': 16, 'color': '#000000'}}\n",
    "        name_id_map[name] = idx\n",
    "    create_legend(row, column)\n",
    "\n",
    "    def create_network(g: nx.MultiGraph):\n",
    "        nodes, edges = [], []\n",
    "        for x, y in g.edges:\n",
    "            x = int(x)\n",
    "            y = int(y)\n",
    "            if x > y:\n",
    "                x, y = y, x\n",
    "            y_c = int(y - len(df.index))\n",
    "            nodes += [(x, node_info[x]), (y, node_info[y])]\n",
    "            edges.append((x, y, {'value': 1 - dist[x, y_c], 'title': dist[x, y_c], 'color': '#808080'}))\n",
    "        graph = nx.MultiGraph()\n",
    "        graph.add_nodes_from(nodes)\n",
    "        graph.add_edges_from(edges)\n",
    "        return graph\n",
    "\n",
    "    @interact_manual(d=BoundedFloatText(value=0.35, min=df.min().min(), max=df.max().max(), step=0.01, description=\"Distance: \"), \n",
    "                     view=Dropdown(options=[\"Neighbors\", \"Connected Components\"], value=\"Neighbors\", description=\"View: \"),\n",
    "                     row_or_col=Combobox(value='', options=list(name_id_map.keys()) + [''], ensure_option=True, description=f\"Filter: \"))\n",
    "    def plot_network(d, view=\"Neighbors\", row_or_col=None):\n",
    "        nt = Network(width='900px', notebook=True)\n",
    "        g = nx.bipartite.from_biadjacency_matrix(sparse.csr_matrix(dist <= d))\n",
    "        if row_or_col:\n",
    "            idx = name_id_map[row_or_col]\n",
    "            if not g[idx]:\n",
    "                print(f\"`{row_or_col}` is not present in the filtered Graph\")\n",
    "                return\n",
    "            g = g.subgraph({idx, *nx.neighbors(g, idx)} if view == \"Neighbors\" else nx.node_connected_component(g, idx)).copy()\n",
    "        nt.from_nx(create_network(g))\n",
    "        return nt.show(f'{row}_{column}_pyvis.html')"
   ]
  },
  {
   "cell_type": "code",
   "execution_count": null,
   "id": "ac76b6e0",
   "metadata": {
    "vscode": {
     "languageId": "plaintext"
    }
   },
   "outputs": [],
   "source": [
    "## Triangular Network between `Microorganisms`, `Disease` & `Food`"
   ]
  },
  {
   "cell_type": "code",
   "execution_count": null,
   "id": "e2e95b1a",
   "metadata": {},
   "outputs": [],
   "source": [
    "# node_info = {}\n",
    "# name_id_map = {}\n",
    "# boundary = [0, len(md_df.index), len(md_df.index) + len(md_df.columns)]\n",
    "# groups = list(colors.keys())\n",
    "# for idx, name in enumerate(chain(md_df.index, md_df.columns, df_df.columns)):\n",
    "#     node_info[idx] = {'label': name, 'title': name, 'weight': 10, 'color': colors[groups[0 if idx < boundary[1] else 1 if idx < boundary[2] else 2]], 'font': {'size': 16, 'color': '#000000'}}\n",
    "#     name_id_map[name] = idx"
   ]
  },
  {
   "cell_type": "code",
   "execution_count": null,
   "id": "a24d19d5",
   "metadata": {},
   "outputs": [],
   "source": [
    "# ELEVATION = {\n",
    "#     0: (0, boundary[1]),\n",
    "#     1: (0, boundary[2]),\n",
    "#     2: (boundary[1], boundary[2])\n",
    "# }\n",
    "\n",
    "# def prepare_combined_graph(dist):\n",
    "#     graph = nx.MultiGraph()\n",
    "#     nodes, edges = [], []\n",
    "#     for k, gdists in enumerate(dists):\n",
    "#         for x, y in zip(*np.where(gdists <= dist)):\n",
    "#             x, y = map(int, (x, y))\n",
    "#             dist = gdists[x, y]\n",
    "#             x += ELEVATION[k][0]\n",
    "#             y += ELEVATION[k][1]\n",
    "#             nodes += [(x, node_info[x]), (y, node_info[y])]\n",
    "#             edges.append((x, y, {'value': 1 - dist, 'title': dist, 'color': '#808080'}))\n",
    "#     graph.add_nodes_from(nodes)\n",
    "#     graph.add_edges_from(edges)\n",
    "#     return graph"
   ]
  },
  {
   "cell_type": "code",
   "execution_count": null,
   "id": "b1b97f1b",
   "metadata": {},
   "outputs": [],
   "source": [
    "# create_legend(*groups)\n",
    "\n",
    "\n",
    "# @interact_manual(dist=BoundedFloatText(value=0.3, min=0.0, max=2.0, step=0.01, description=\"Distance: \"),\n",
    "#                 row_or_col=Combobox(value='', options=list(name_id_map.keys()) + [''], ensure_option=True, description=f\"Filter: \"))\n",
    "# def plot_network(dist, row_or_col=None):\n",
    "#     nt = Network(width='900px', notebook=True)\n",
    "#     g = prepare_combined_graph(dist)\n",
    "#     if row_or_col:\n",
    "#         idx = name_id_map[row_or_col]\n",
    "#         if idx not in g.nodes:\n",
    "#             print(f\"`{row_or_col}` is not present in the filtered Graph\")\n",
    "#             return\n",
    "#         for c in nx.connected_components(g):\n",
    "#             if idx in c:\n",
    "#                 g = g.subgraph(c).copy()\n",
    "#                 break\n",
    "#     nt.from_nx(g)\n",
    "#     return nt.show(f'triang_pyvis.html')"
   ]
  },
  {
   "cell_type": "markdown",
   "id": "822fa3f6",
   "metadata": {},
   "source": [
    "## Node & Edge distribution based on `distance`"
   ]
  },
  {
   "cell_type": "code",
   "execution_count": null,
   "id": "858cb1ef",
   "metadata": {},
   "outputs": [],
   "source": [
    "import plotly.graph_objects as go\n",
    "import plotly.offline as py"
   ]
  },
  {
   "cell_type": "code",
   "execution_count": null,
   "id": "2a7cc5d1",
   "metadata": {},
   "outputs": [],
   "source": [
    "def node_edge_distrib(dist_arr, step=0.1):\n",
    "    nodes, edges, distances = [], [], []\n",
    "    check_dist = 0.0\n",
    "    while check_dist <= 2.0:\n",
    "        distances.append(check_dist)\n",
    "        checker = (dist_arr > check_dist) & (dist_arr <= check_dist + step)\n",
    "        edges.append(np.count_nonzero(checker))\n",
    "        nodes.append(list(map(lambda x: len(set(x)), np.nonzero(checker))))\n",
    "        check_dist += step\n",
    "    return np.array(distances), np.array(nodes), np.array(edges)"
   ]
  },
  {
   "cell_type": "code",
   "execution_count": null,
   "id": "aba12257",
   "metadata": {},
   "outputs": [],
   "source": [
    "@interact(data=Dropdown(options=dataset, value=0, description=\"Dataset: \"))\n",
    "def node_edge_distribution(data):\n",
    "    df, dist, row, column = choose_data(data)\n",
    "    create_legend()\n",
    "    @interact_manual(by=Dropdown(options=[\"Node\", \"Edge\"], value=\"Edge\", description=\"By:\"),\n",
    "        step=BoundedFloatText(value=0.1, min=0.01, max=1.0, step=0.01, description=\"Step:\"))\n",
    "    def plot_node_edge_distribution(by, step=0.1):\n",
    "        distances, nodes, edges = node_edge_distrib(dist, step=step)\n",
    "        if by == 'Node':\n",
    "            fig = go.Figure(data=[\n",
    "                go.Bar(name=f'{row} Nodes', x=distances, y=nodes[:, 0], marker_color=colors[row]),\n",
    "                go.Bar(name=f'{column} Nodes', x=distances, y=nodes[:, 1], marker_color=colors[column])\n",
    "            ])\n",
    "            fig.update_layout(barmode='stack')\n",
    "        elif by == 'Edge':\n",
    "            fig = go.Figure(data=[go.Bar(x=distances, y=edges)])\n",
    "        else:\n",
    "            print(\"`By` must be in {'Node', 'Edge'}\")\n",
    "            return\n",
    "        py.iplot(fig)"
   ]
  }
 ],
 "metadata": {
  "kernelspec": {
   "display_name": "Python 3",
   "language": "python",
   "name": "python3"
  },
  "language_info": {
   "codemirror_mode": {
    "name": "ipython",
    "version": 3
   },
   "file_extension": ".py",
   "mimetype": "text/x-python",
   "name": "python",
   "nbconvert_exporter": "python",
   "pygments_lexer": "ipython3",
   "version": "3.6.9"
  },
  "toc": {
   "base_numbering": 1,
   "nav_menu": {},
   "number_sections": true,
   "sideBar": true,
   "skip_h1_title": false,
   "title_cell": "Table of Contents",
   "title_sidebar": "Contents",
   "toc_cell": false,
   "toc_position": {},
   "toc_section_display": true,
   "toc_window_display": false
  }
 },
 "nbformat": 4,
 "nbformat_minor": 5
}
