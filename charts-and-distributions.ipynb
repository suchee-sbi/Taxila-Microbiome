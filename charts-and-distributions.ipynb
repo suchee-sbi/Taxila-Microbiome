{
 "cells": [
  {
   "cell_type": "markdown",
   "id": "15da7bbd",
   "metadata": {},
   "source": [
    "# Charts & Distributions of Microbiome dataset in PubMed"
   ]
  },
  {
   "cell_type": "markdown",
   "id": "d9ab610a",
   "metadata": {},
   "source": [
    "## Load pre-calcuated data"
   ]
  },
  {
   "cell_type": "code",
   "execution_count": null,
   "id": "6b515ba9",
   "metadata": {},
   "outputs": [],
   "source": [
    "import joblib"
   ]
  },
  {
   "cell_type": "code",
   "execution_count": null,
   "id": "4cac2320",
   "metadata": {},
   "outputs": [],
   "source": [
    "country_counter = joblib.load('./data/country_counter.pkl')\n",
    "country_counter_affil = joblib.load('./data/country_counter_affil.pkl')"
   ]
  },
  {
   "cell_type": "markdown",
   "id": "449c93ab",
   "metadata": {},
   "source": [
    "## Metadata"
   ]
  },
  {
   "cell_type": "markdown",
   "id": "456183b2",
   "metadata": {},
   "source": [
    "1. Abbreviations"
   ]
  },
  {
   "cell_type": "code",
   "execution_count": null,
   "id": "74de821f",
   "metadata": {},
   "outputs": [],
   "source": [
    "continents_abbr = {\n",
    "    'AS': 'Asia',\n",
    "    'AF': 'Africa',\n",
    "    'EU': 'Europe',\n",
    "    'OC': 'Oceania',\n",
    "    'NA': 'North America',\n",
    "    'SA': 'South America',\n",
    "    'AN': 'Antarctica'\n",
    "}\n",
    "income_level_abbr = {\n",
    "    'HIC': 'High income',\n",
    "    'INX': 'Not classified',\n",
    "    'LIC': 'Low income',\n",
    "    'LMC': 'Lower middle income',\n",
    "    'LMY': 'Low & middle income',\n",
    "    'MIC': 'Middle income',\n",
    "    'UMC': 'Upper middle income'\n",
    "}"
   ]
  },
  {
   "cell_type": "markdown",
   "id": "ad36780b",
   "metadata": {},
   "source": [
    "2. Colors"
   ]
  },
  {
   "cell_type": "code",
   "execution_count": null,
   "id": "5f428e52",
   "metadata": {},
   "outputs": [],
   "source": [
    "continent_color_mapper = {\n",
    "    continents_abbr[\"AS\"]: \"#1b9e77\",\n",
    "    continents_abbr[\"AF\"]: \"#d95f02\",\n",
    "    continents_abbr[\"EU\"]: \"#7570b3\",\n",
    "    continents_abbr[\"OC\"]: \"#e7298a\",\n",
    "    continents_abbr[\"NA\"]: \"#66a61e\",\n",
    "    continents_abbr[\"SA\"]: \"#e6ab02\",\n",
    "    continents_abbr[\"AN\"]: \"#a6761d\",\n",
    "}\n",
    "income_color_mapper = {\n",
    "    income_level_abbr[\"HIC\"]: \"#006400\",\n",
    "    income_level_abbr[\"UMC\"]: \"#9400d3\",\n",
    "    income_level_abbr[\"LMC\"]: \"#ff7f00\",\n",
    "    income_level_abbr[\"LIC\"]: \"#dc143c\",\n",
    "    income_level_abbr[\"INX\"]: \"#7a7a7a\",\n",
    "}"
   ]
  },
  {
   "cell_type": "markdown",
   "id": "9be1b510",
   "metadata": {},
   "source": [
    "3. Shapes"
   ]
  },
  {
   "cell_type": "code",
   "execution_count": null,
   "id": "48356f7e",
   "metadata": {},
   "outputs": [],
   "source": [
    "# https://plotly.com/python/marker-style/#custom-marker-symbols\n",
    "continent_shape_mapper = {\n",
    "    continents_abbr[\"AS\"]: \"circle\",\n",
    "    continents_abbr[\"AF\"]: \"square\",\n",
    "    continents_abbr[\"EU\"]: \"diamond\",\n",
    "    continents_abbr[\"OC\"]: \"triangle-left\",\n",
    "    continents_abbr[\"NA\"]: \"triangle-up\",\n",
    "    continents_abbr[\"SA\"]: \"triangle-down\",\n",
    "    continents_abbr[\"AN\"]: \"triangle-right\",\n",
    "}\n",
    "income_shape_mapper = {\n",
    "    income_level_abbr[\"HIC\"]: \"circle\",\n",
    "    income_level_abbr[\"UMC\"]: \"triangle-up\",\n",
    "    income_level_abbr[\"LMC\"]: \"triangle-down\",\n",
    "    income_level_abbr[\"LIC\"]: \"square\",\n",
    "    income_level_abbr[\"INX\"]: \"pentagon\",\n",
    "}"
   ]
  },
  {
   "cell_type": "markdown",
   "id": "b953ca22",
   "metadata": {},
   "source": [
    "4. Country Income info"
   ]
  },
  {
   "cell_type": "code",
   "execution_count": null,
   "id": "5afda94f",
   "metadata": {},
   "outputs": [],
   "source": [
    "import json\n",
    "\n",
    "with open('./data/country_income.json', 'r', encoding='utf-8') as f:\n",
    "    inc = json.loads(f.read())"
   ]
  },
  {
   "cell_type": "markdown",
   "id": "90bb3e67",
   "metadata": {},
   "source": [
    "## Prepare data for charts"
   ]
  },
  {
   "cell_type": "code",
   "execution_count": null,
   "id": "9d9649d5",
   "metadata": {},
   "outputs": [],
   "source": [
    "from collections import defaultdict\n",
    "from itertools import chain\n",
    "\n",
    "import numpy as np\n",
    "import pandas as pd"
   ]
  },
  {
   "cell_type": "code",
   "execution_count": null,
   "id": "a5010b39",
   "metadata": {},
   "outputs": [],
   "source": [
    "# country_data = defaultdict(lambda: np.zeros(2))\n",
    "country_data = []\n",
    "continent_data, income_data = defaultdict(lambda: np.zeros(2)), defaultdict(lambda: np.zeros(2))\n",
    "for key in set(chain(country_counter.keys(), country_counter_affil.keys())):\n",
    "    iso_3, name, cont = key\n",
    "    data = np.array([country_counter[key], country_counter_affil[key]])\n",
    "    continent_data[continents_abbr[cont]] += data\n",
    "    income_level = income_level_abbr[inc[iso_3] if iso_3 in inc else 'INX']\n",
    "    income_data[income_level] += data\n",
    "#     country_data[(iso_3, name, continents_abbr[cont], income_level)] = data\n",
    "    country_data.append([iso_3, name, continents_abbr[cont], income_level, *data])"
   ]
  },
  {
   "cell_type": "code",
   "execution_count": null,
   "id": "64df41ff",
   "metadata": {},
   "outputs": [],
   "source": [
    "cdf = pd.DataFrame(country_data, columns=['iso3', 'name', 'continent', 'income_level', 'mention_text', 'mention_affil'])\n",
    "texts = cdf.apply(lambda x: \"<br>\".join(f\"<b>{k}:</b> {v}\" for k, v in x.to_dict().items()), axis=1).values\n",
    "income_colors = cdf['income_level'].apply(lambda x: income_color_mapper[x]).values\n",
    "continent_colors = cdf['continent'].apply(lambda x: continent_color_mapper[x]).values\n",
    "income_shapes = cdf['income_level'].apply(lambda x: income_shape_mapper[x]).values\n",
    "continent_shapes = cdf['continent'].apply(lambda x: continent_shape_mapper[x]).values"
   ]
  },
  {
   "cell_type": "markdown",
   "id": "38b3572f",
   "metadata": {},
   "source": [
    "## Charts"
   ]
  },
  {
   "cell_type": "code",
   "execution_count": null,
   "id": "7062ecb5",
   "metadata": {},
   "outputs": [],
   "source": [
    "import plotly.offline as py\n",
    "import plotly.graph_objects as go\n",
    "from ipywidgets import Dropdown, interact, interact_manual\n",
    "\n",
    "py.init_notebook_mode()"
   ]
  },
  {
   "cell_type": "markdown",
   "id": "70b37fe1",
   "metadata": {},
   "source": [
    "### Geo Distribution"
   ]
  },
  {
   "cell_type": "code",
   "execution_count": null,
   "id": "1d367353",
   "metadata": {},
   "outputs": [],
   "source": [
    "@interact(by=Dropdown(options=[\"Text\", \"Affiliation\"], value=\"Text\", description=\"Mentions in:\"), \n",
    "          scale=Dropdown(options=['Log', 'Linear'], value=\"Log\", description=\"Scale: \"))\n",
    "def plot_world_map(by, scale=np.log):\n",
    "    if by == 'Text':\n",
    "        counter = country_counter\n",
    "    elif by == 'Affiliation':\n",
    "        counter = country_counter_affil\n",
    "    else:\n",
    "        print(\"`Mentions in` must be in {'Text', 'Affiliation'}\")\n",
    "        return\n",
    "    countries = [x for _, x, _ in counter.keys()]\n",
    "    counts = np.array(list(counter.values()))\n",
    "    # Source: https://stackoverflow.com/questions/62566708/plotly-highlight-identify-certain-countries-in-choropleth\n",
    "    data = dict(\n",
    "        type='choropleth',\n",
    "        locations=countries,\n",
    "        locationmode='country names',\n",
    "        colorscale='Reds',  # See: https://plotly.com/python/reference/choropleth/#choropleth-colorscale\n",
    "        z=np.log(counts) if scale == \"Log\" else counts\n",
    "    )\n",
    "    wmap = go.Figure(data=[data])\n",
    "    py.iplot(wmap)"
   ]
  },
  {
   "cell_type": "markdown",
   "id": "0774ffe0",
   "metadata": {},
   "source": [
    "### Country mentions in - Text Vs Affiliation"
   ]
  },
  {
   "cell_type": "code",
   "execution_count": null,
   "id": "b30535a4",
   "metadata": {},
   "outputs": [],
   "source": [
    "@interact(color_by=Dropdown(options=[\"Continent\", \"Income level\"], value=\"Income level\", description=\"Color By:\"), \n",
    "          scale=Dropdown(options=['Log', 'Linear'], value=\"Log\", description=\"Scale: \"))\n",
    "def mentions(color_by, scale=np.log):\n",
    "    if color_by == \"Continent\":\n",
    "        color_mapper = continent_color_mapper\n",
    "        colors = continent_colors\n",
    "    elif color_by == \"Income level\":\n",
    "        color_mapper = income_color_mapper\n",
    "        colors = income_colors\n",
    "    else:\n",
    "        print(\"`Color By` should be in {'Continent', 'Income level'}\")\n",
    "        return\n",
    "    # Add legends\n",
    "    traces = [go.Scatter(x=[None], y=[None], name=k, mode=\"markers\", \n",
    "                         marker=dict(symbol='square', color=v, size=10), \n",
    "                         legendrank=idx) \n",
    "              for idx, (k, v) in enumerate(color_mapper.items())]\n",
    "    countries = cdf['name'].values\n",
    "    x = cdf['mention_text'].values\n",
    "    y = cdf['mention_affil'].values\n",
    "    x, y = (np.log(x), np.log(y)) if scale == 'Log' else (x, y)\n",
    "    traces.append(go.Scatter(x=x, y=y, mode='markers', text=countries, textposition='top right', \n",
    "                             marker=dict(color=colors),\n",
    "                             showlegend=False)\n",
    "                 )\n",
    "    # https://plotly.com/python/line-and-scatter/\n",
    "    fig = go.Figure(data=traces)\n",
    "    fig.update_layout(legend_traceorder='normal')\n",
    "    fig.update_xaxes(title_text='Mentions in <b>Text</b>')\n",
    "    fig.update_yaxes(title_text='Mentions in <b>Affiliation</b>')\n",
    "    py.iplot(fig)"
   ]
  },
  {
   "cell_type": "markdown",
   "id": "3a34c22b",
   "metadata": {},
   "source": [
    "### Distribution based on `Continent` & `Income level`"
   ]
  },
  {
   "cell_type": "code",
   "execution_count": null,
   "id": "b6b921cf",
   "metadata": {},
   "outputs": [],
   "source": [
    "@interact(by=Dropdown(options=[\"Continent\", \"Income level\"], value=\"Continent\", description=\"By:\"))\n",
    "def plot_bars(by):\n",
    "    if by == \"Continent\":\n",
    "        data = continent_data\n",
    "    elif by == \"Income level\":\n",
    "        data = income_data\n",
    "    else:\n",
    "        print(\"`By` should be in {'Continent', 'Income level'}\")\n",
    "        return\n",
    "    categories = list(data.keys())\n",
    "    values = np.array(list(data.values()))\n",
    "    in_text = values[:, 0]\n",
    "    in_affil = values[:, 1]\n",
    "    fig_cc = go.Figure(data=[\n",
    "        go.Bar(name='In Text', x=categories, y=in_text),\n",
    "        go.Bar(name='In Affiliation', x=categories, y=in_affil)\n",
    "    ])\n",
    "    fig_cc.update_layout(barmode='group')\n",
    "    # Source: https://community.plotly.com/t/plotly-express-histogram-any-way-to-sort-bar-by-value/23905/10\n",
    "    # https://plotly.com/python/reference/layout/xaxis/#layout-xaxis-categoryorder\n",
    "    fig_cc.update_xaxes(categoryorder='total descending')\n",
    "\n",
    "    py.iplot(fig_cc)"
   ]
  },
  {
   "cell_type": "markdown",
   "id": "8ac50e50",
   "metadata": {},
   "source": [
    "### Dimension Reduction"
   ]
  },
  {
   "cell_type": "code",
   "execution_count": null,
   "id": "cecdb80f",
   "metadata": {},
   "outputs": [],
   "source": [
    "from sklearn.manifold import TSNE\n",
    "from sklearn.decomposition import PCA\n",
    "from umap import UMAP"
   ]
  },
  {
   "cell_type": "code",
   "execution_count": null,
   "id": "e95cf3e1",
   "metadata": {},
   "outputs": [],
   "source": [
    "from ipywidgets import FloatRangeSlider\n",
    "\n",
    "@interact_manual(method=Dropdown(options=['tsne', 'pca', 'umap'], value=\"tsne\", \n",
    "                                 description=\"Method\"), \n",
    "                 normalization=Dropdown(options=[\"minmax\", \"gaussian\", \"fraction\"], value=\"minmax\", \n",
    "                                        description=\"Normalization\"),\n",
    "                 size_by=Dropdown(options=[\"text\", \"affiliation\", \"frac_per_text\", \"frac_per_affil\"], \n",
    "                                  value=\"text\", description=\"Size by\"),\n",
    "                 size_range=FloatRangeSlider(min=1.0, max=50, value=[3., 20], readout_format='.1f',\n",
    "                                             description=\"Size Range:\"),\n",
    "                 continent_as_shape=Dropdown(options=[('Income as Color & Continent as Shape', True),\n",
    "                                                      ('Continent as Color & Income as Shape', False)],\n",
    "                                             value=True, description=\"Color Vs Shape:\")\n",
    "                )\n",
    "def dimension_reduction(method='tsne', normalization='norm', size_by='text', size_range=[3, 20],\n",
    "                        continent_as_shape=True):\n",
    "    jitter_alpha = 2.0\n",
    "    mt, ma = cdf['mention_text'], cdf['mention_affil']\n",
    "    if normalization == 'minmax':\n",
    "        cdf['mention_text_normalized'] = (mt - mt.min()) / (mt.max() - mt.min())\n",
    "        cdf['mention_affil_normalized'] = (ma - ma.min()) / (ma.max() - ma.min())\n",
    "    elif normalization == 'gaussian':\n",
    "        cdf['mention_text_normalized'] = (mt - mt.mean()) / mt.std()\n",
    "        cdf['mention_affil_normalized'] = (ma - ma.mean()) / ma.std()\n",
    "    elif normalization == 'fraction':\n",
    "        cdf['mention_text_normalized'] = mt / mt.max()\n",
    "        cdf['mention_affil_normalized'] = ma / ma.max()\n",
    "    else:\n",
    "        print(f'Normalization `{normalization}` is not recognized')\n",
    "        return\n",
    "\n",
    "    inc_one_hot = pd.get_dummies(cdf['income_level']).values\n",
    "    cont_one_hot = pd.get_dummies(cdf['continent']).values\n",
    "    ta_vec = cdf[['mention_text_normalized', 'mention_affil_normalized']].values\n",
    "    vecs = np.concatenate((ta_vec, inc_one_hot, cont_one_hot), axis=1)\n",
    "    \n",
    "    if method == 'tsne':\n",
    "        fitted = TSNE().fit_transform(vecs)\n",
    "        fitted += np.random.rand(*fitted.shape) * jitter_alpha\n",
    "        x = fitted[:, 0]\n",
    "        y = fitted[:, 1]\n",
    "    elif method == 'pca':\n",
    "        fitted = PCA().fit_transform(vecs)\n",
    "        fitted += np.random.rand(*fitted.shape) * jitter_alpha\n",
    "        x = fitted[:, 0]\n",
    "        y = fitted[:, 1]\n",
    "    elif method == 'umap':\n",
    "        fitted = UMAP().fit_transform(vecs)\n",
    "        fitted += np.random.rand(*fitted.shape) * jitter_alpha\n",
    "        x = fitted[:, 0]\n",
    "        y = fitted[:, 1]\n",
    "    else:\n",
    "        print(f'Method `{method}` is not recognized')\n",
    "        return\n",
    "    if size_by == 'text':\n",
    "        sz = mt\n",
    "    elif size_by == 'affiliation':\n",
    "        sz = ma\n",
    "    elif size_by == 'frac_per_text':\n",
    "        sz = np.nan_to_num(ma / mt, posinf=0.0)\n",
    "    elif size_by == 'frac_per_affil':\n",
    "        sz = np.nan_to_num(mt / ma, posinf=0.0)\n",
    "    else:\n",
    "        print(f'Size by `{method}` is not recognized')\n",
    "        return\n",
    "    # Shapes & colors\n",
    "    if continent_as_shape:\n",
    "        shapes = continent_shapes\n",
    "        colors = income_colors\n",
    "        shape_mapper = continent_shape_mapper\n",
    "        color_mapper = income_color_mapper\n",
    "    else:\n",
    "        shapes = income_shapes\n",
    "        colors = continent_colors\n",
    "        shape_mapper = income_shape_mapper\n",
    "        color_mapper = continent_color_mapper\n",
    "    sizes = np.nan_to_num(np.log(sz), neginf=0.0)\n",
    "#     sizes = sz\n",
    "    # Min-Max scaling\n",
    "#     sizes = (sizes - sizes.min()) / (sizes.max() - sizes.min())\n",
    "    sizes = (sizes - sizes.min()) / (sizes.max() - sizes.min()) * (size_range[1] - size_range[0]) + size_range[0]\n",
    "    # https://plotly.com/python/line-and-scatter/\n",
    "    fig = go.Figure(data=[go.Scatter(x=x, y=y, mode='markers', text=texts,\n",
    "                                     marker_symbol=shapes,\n",
    "                                     marker=dict(\n",
    "                                         color=colors,\n",
    "                                         size=sizes,\n",
    "                                         opacity=0.7\n",
    "                                     ),\n",
    "                                     showlegend=False,\n",
    "                                     hoverinfo='text',\n",
    "                                    ),\n",
    "\n",
    "                          # Add legends: https://community.plotly.com/t/plotly-express-how-to-separate-symbol-and-color-in-legend/38950/2\n",
    "                          # Colors\n",
    "                          *[go.Scatter(x=[None], y=[None], name=k, mode=\"markers\", legendgroup=\"color\", \n",
    "                                       legendgrouptitle_text=\"Colors:\", \n",
    "                                       marker=dict(symbol='square', color=v, size=10)) \n",
    "                            for k, v in color_mapper.items()],\n",
    "                          # Shapes\n",
    "                          *[go.Scatter(x=[None], y=[None], name=k, mode=\"markers\", legendgroup=\"shape\", \n",
    "                                       legendgrouptitle_text=\"Shapes:\", \n",
    "                                       marker=dict(symbol=v, color='#000000', size=10)) \n",
    "                            for k, v in shape_mapper.items()]\n",
    "                         ],\n",
    "                   layout=go.Layout(paper_bgcolor='rgba(255, 255, 255, 255)',\n",
    "                                    plot_bgcolor='rgba(255, 255, 255, 255)')\n",
    "                   )\n",
    "    # Remove axes\n",
    "    fig.update_xaxes(visible=False)\n",
    "    fig.update_yaxes(visible=False)\n",
    "    py.iplot(fig)"
   ]
  }
 ],
 "metadata": {
  "kernelspec": {
   "display_name": "Python 3",
   "language": "python",
   "name": "python3"
  },
  "language_info": {
   "codemirror_mode": {
    "name": "ipython",
    "version": 3
   },
   "file_extension": ".py",
   "mimetype": "text/x-python",
   "name": "python",
   "nbconvert_exporter": "python",
   "pygments_lexer": "ipython3",
   "version": "3.6.9"
  },
  "toc": {
   "base_numbering": 1,
   "nav_menu": {},
   "number_sections": true,
   "sideBar": true,
   "skip_h1_title": false,
   "title_cell": "Table of Contents",
   "title_sidebar": "Contents",
   "toc_cell": false,
   "toc_position": {},
   "toc_section_display": true,
   "toc_window_display": false
  }
 },
 "nbformat": 4,
 "nbformat_minor": 5
}
